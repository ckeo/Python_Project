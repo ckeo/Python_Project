{
 "cells": [
  {
   "cell_type": "code",
   "execution_count": 1,
   "id": "9837f349",
   "metadata": {},
   "outputs": [],
   "source": [
    "#mapping fail. I cut this code from the original notebook because i could not get something usable and it was\n",
    "#really messy. It doesn't really make sense on its own but I figured maybe I could learn from it."
   ]
  },
  {
   "cell_type": "code",
   "execution_count": null,
   "id": "cb11019e",
   "metadata": {},
   "outputs": [],
   "source": [
    "#Top ten GHG emitters by borough. How? Not group by??? I forget. this is just a test;.\n",
    "\n",
    "\n",
    "pts = clean_data2019[['Address 1','Latitude','Longitude']].iloc[1:10]"
   ]
  },
  {
   "cell_type": "code",
   "execution_count": null,
   "id": "31e07104",
   "metadata": {},
   "outputs": [],
   "source": [
    "import plotly.express as px\n",
    "import pandas as pd\n",
    "\n",
    "fig = px.scatter_geo(df,lat='Latitude',lon='Longitude', hover_name=\"Address 1\")\n",
    "fig.update_layout(title = 'World map', title_x=0.5)\n",
    "fig.show()\n",
    "\n",
    "#Lol definitely don't want a world map"
   ]
  },
  {
   "cell_type": "code",
   "execution_count": null,
   "id": "26aff2fd",
   "metadata": {},
   "outputs": [],
   "source": [
    "import plotly.graph_objects as go\n",
    "\n",
    "fig = go.Figure(go.Scattergeo(pts,lat='Latitude',lon='Longitude', hover_name=\"Address 1\"))\n",
    "fig.update_geos(\n",
    "    visible=False, resolution=110, scope=\"usa\",\n",
    "    showcountries=True, countrycolor=\"Black\",\n",
    "    showsubunits=True, subunitcolor=\"Blue\"\n",
    ")\n",
    "fig.update_layout(height=300, margin={\"r\":0,\"t\":0,\"l\":0,\"b\":0})\n",
    "fig.show()"
   ]
  },
  {
   "cell_type": "code",
   "execution_count": null,
   "id": "76757c68",
   "metadata": {},
   "outputs": [],
   "source": [
    "gdf = geopandas.GeoDataFrame(\n",
    "    pts, geometry=geopandas.points_from_xy(pts.Longitude, pts.Latitude))\n",
    "gdf"
   ]
  },
  {
   "cell_type": "code",
   "execution_count": null,
   "id": "de516617",
   "metadata": {},
   "outputs": [],
   "source": [
    "# df = geopandas.read_file(geopandas.datasets.get_path('nybb'))\n",
    "# ax = df.plot(figsize=(10, 10), alpha=0.5, edgecolor='k')\n",
    "fig = px.scatter_geo(gdf,lat='Latitude',lon='Longitude', hover_name=\"Address 1\")\n",
    "fig.show()"
   ]
  }
 ],
 "metadata": {
  "kernelspec": {
   "display_name": "Python 3 (ipykernel)",
   "language": "python",
   "name": "python3"
  },
  "language_info": {
   "codemirror_mode": {
    "name": "ipython",
    "version": 3
   },
   "file_extension": ".py",
   "mimetype": "text/x-python",
   "name": "python",
   "nbconvert_exporter": "python",
   "pygments_lexer": "ipython3",
   "version": "3.10.4"
  }
 },
 "nbformat": 4,
 "nbformat_minor": 5
}
