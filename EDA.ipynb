{
 "cells": [
  {
   "cell_type": "markdown",
   "id": "580accfa",
   "metadata": {},
   "source": [
    "Could look at: 2020 data vs 2021 data? Boro by boro? GHG emissions vs EUI? Building type contributions to GHG? fuel type contributions to GHG? Fuel types by usage types? Combo high EUI and high ghg emissions areas/neighborhoods?"
   ]
  },
  {
   "cell_type": "code",
   "execution_count": 1,
   "id": "8c475e3a",
   "metadata": {},
   "outputs": [
    {
     "name": "stdout",
     "output_type": "stream",
     "text": [
      "Property Id,Property Name,Parent Property Id,Parent Property Name,Year Ending,\"NYC Borough, Block and Lot (BBL)\",NYC Building Identification Number (BIN),Address 1,City,Postcode,Primary Property Type - Self Selected,Primary Property Type - Portfolio Manager-Calculated,National Median Reference Property Type,List of All Property Use Types at Property,Largest Property Use Type,Largest Property Use Type - Gross Floor Area (ft²),2nd Largest Property Use Type,2nd Largest Property Use - Gross Floor Area (ft²),3rd Largest Property Use Type,3rd Largest Property Use Type - Gross Floor Area (ft²),Year Built,Construction Status,Number of Buildings,Occupancy,Metered Areas (Energy),Metered Areas (Water),ENERGY STAR Score,National Median ENERGY STAR Score,Target ENERGY STAR Score,Reason(s) for No Score,ENERGY STAR Certification - Year(s) Certified (Score),ENERGY STAR Certification - Eligibility,ENERGY STAR Certification - Last Approval Date,Site EUI (kBtu/ft²),Weather Normalized Site EUI (kBtu/ft²),National Median Site EUI (kBtu/ft²),Site Energy Use (kBtu),Weather Normalized Site Energy Use (kBtu),Weather Normalized Site Electricity Intensity (kWh/ft²),Weather Normalized Site Natural Gas Intensity (therms/ft²),Source EUI (kBtu/ft²),Weather Normalized Source EUI (kBtu/ft²),National Median Source EUI (kBtu/ft²),Source Energy Use (kBtu),Weather Normalized Source Energy Use (kBtu),Fuel Oil #1 Use (kBtu),Fuel Oil #2 Use (kBtu),Fuel Oil #4 Use (kBtu),Fuel Oil #5 & 6 Use (kBtu),Diesel #2 Use (kBtu),Propane Use (kBtu),District Steam Use (kBtu),District Hot Water Use (kBtu),District Chilled Water Use (kBtu),Natural Gas Use (kBtu),Natural Gas Use (therms),Weather Normalized Site Natural Gas Use (therms),Electricity Use - Grid Purchase (kBtu),Electricity Use - Grid Purchase (kWh),Weather Normalized Site Electricity (kWh),Electricity Use - Grid Purchase and Generated from Onsite Renewable Systems (kWh),Electricity Use - Grid Purchase and Generated from Onsite Renewable Systems (kBtu),Electricity Use – Generated from Onsite Renewable Systems and Used Onsite (kWh),Electricity Use – Generated from Onsite Renewable Systems and Used Onsite (kBtu),Electricity Use – Generated from Onsite Renewable Systems (kWh),Electricity Use – Generated from Onsite Renewable Systems and Exported (kWh),Annual Maximum Demand (kW),Annual Maximum Demand (MM/YYYY),Annual Maximum Demand (Meter Name (Meter ID)),Green Power - Onsite (kWh),Green Power - Offsite (kWh),Green Power - Onsite and Offsite (kWh),Total GHG Emissions (Metric Tons CO2e),Direct GHG Emissions (Metric Tons CO2e),Total GHG Emissions Intensity (kgCO2e/ft²),Direct GHG Emissions Intensity (kgCO2e/ft²),Indirect GHG Emissions (Metric Tons CO2e),Net Emissions (Metric Tons CO2e),Indirect GHG Emissions Intensity (kgCO2e/ft²),National Median Total GHG Emissions (Metric Tons CO2e),eGRID Output Emissions Rate (kgCO2e/MBtu),Avoided Emissions - Onsite Green Power (Metric Tons CO2e),Avoided Emissions - Offsite Green Power (Metric Tons CO2e),Avoided Emissions - Onsite and Offsite Green Power (Metric Tons CO2e),Percent of Electricity that is Green Power,Percent of RECs Retained,Percent of Total Electricity Generated from Onsite Renewable Systems,LEED US Project ID,Adult Education - Gross Floor Area (ft²),Ambulatory Surgical Center - Gross Floor Area (ft²),Automobile Dealership - Gross Floor Area (ft²),Bank Branch - Gross Floor Area (ft²),Barracks- Gross Floor Area (ft²),College/University - Gross Floor Area (ft²),Convention Center - Gross Floor Area (ft²),Courthouse - Gross Floor Area (ft²),Data Center - Gross Floor Area (ft²),Data Center - UPS System Redundancy,Data Center - Cooling Equipment Redundancy,Data Center - IT Energy Configuration,Data Center - Energy Estimates Applied,Data Center - UPS Output Meter (kWh),Data Center - PDU Input Meter (kWh),Data Center - PDU Output Meter (kWh),Data Center - IT Equipment Input Meter (kWh),Data Center - IT Site Energy (kWh),Data Center - IT Source Energy (kBtu),Data Center - PUE,Data Center - National Median PUE,Distribution Center - Gross Floor Area (ft²),Enclosed Mall - Gross Floor Area (ft²),Energy/Power Station - Gross Floor Area (ft²),Financial Office - Gross Floor Area (ft²),Financial Office - Number of Computers,Financial Office - Weekly Operating Hours,Financial Office - Number of Workers on Main Shift,Fitness Center/Health Club/Gym - Gross Floor Area (ft²),Food Sales - Gross Floor Area (ft²),Food Service - Gross Floor Area (ft²),Hospital (General Medical & Surgical)- Full Time Equivalent (FTE) Workers,Hospital (General Medical & Surgical) - Gross Floor Area (ft²),Hospital (General Medical & Surgical) - Laboratory,Hospital (General Medical & Surgical) - Licensed Bed Capacity,Hospital (General Medical & Surgical) - Number of MRI Machines,\"Hospital (General Medical & Surgical) - MRI Density (Number per 1,000 sq ft)\",Hospital (General Medical & Surgical) - Number of Staffed Beds,\"Hospital (General Medical & Surgical) - Staffed Bed Density (Number per 1,000 sq ft)\",Hospital (General Medical & Surgical) - Number of Workers on Main Shift,\"Hospital (General Medical & Surgical) - Number of Workers on Main Shift Density (Number per 1,000 sq ft)\",Hospital (General Medical & Surgical) - Percent That Can Be Cooled,Hospital (General Medical & Surgical) - Percent That Can Be Heated,Medical Office - Gross Floor Area (ft²),Medical Office - Number of Computers,Medical Office - Number of MRI Machines,Medical Office - Number of Workers on Main Shift,Medical Office - Percent That Can Be Cooled,Medical Office - Percent That Can Be Heated,Medical Office - Weekly Operating Hours,Outpatient Rehabilitation/Physical Therapy - Gross Floor Area (ft²),Urgent Care/Clinic/Other Outpatient - Gross Floor Area (ft²),Hotel - Gross Floor Area (ft²),Hotel - Gym/fitness  Center Floor Area (ft²),K-12 School - Gross Floor Area (ft²),Pre-school/Daycare - Gross Floor Area (ft²),Laboratory - Gross Floor Area (ft²),Mailing Center/Post Office - Gross Floor Area (ft²),Movie Theater - Gross Floor Area (ft²),Manufacturing/Industrial Plant - Gross Floor Area (ft²),Multifamily Housing - Government Subsidized Housing,Multifamily Housing - Gross Floor Area (ft²),Multifamily Housing - Number of Bedrooms,\"Multifamily Housing - Number of Bedrooms Density (Number per 1,000 sq ft)\",Multifamily Housing - Number of Laundry Hookups in All Units,Multifamily Housing - Number of Laundry Hookups in Common Area(s),Multifamily Housing - Number of Residential Living Units in a High-Rise Building (10 or more Stories),Multifamily Housing - Total Number of Residential Living Units,\"Multifamily Housing - Total Number of Residential Living Units Density (Number per 1,000 sq ft)\",\"Multifamily Housing - Number of Residential Living Units in a High-Rise Building Density (Number per 1,000 sq ft)\",Multifamily Housing - Number of Residential Living Units in a Mid-Rise Building (5-9 Stories),\"Multifamily Housing - Number of Residential Living Units in a Mid-Rise Building Density (Number per 1,000 sq ft)\",Multifamily Housing - Percent That Can Be Cooled,Multifamily Housing - Percent That Can Be Heated,Multifamily Housing - Resident Population Type,Residence Hall/Dormitory - Gross Floor Area (ft²),Non-Refrigerated Warehouse - Gross Floor Area (ft²),Office - Gross Floor Area (ft²),Office - Number of Computers,Office - Number of Workers on Main Shift,Office - Percent That Can Be Cooled,Office - Percent That Can Be Heated,Office - Weekly Operating Hours,\"Office - Worker Density (Number per 1,000 sq ft)\",Other - Gross Floor Area (ft²),Museum - Gross Floor Area (ft²),Performing Arts - Gross Floor Area (ft²),Parking - Gross Floor Area (ft²),Parking - Completely Enclosed Parking Garage Size (ft²),Parking - Open Parking Lot Size (ft²),Parking - Partially Enclosed Parking Garage Size (ft²),Refrigerated Warehouse - Gross Floor Area (ft²),Restaurant - Gross Floor Area (ft²),Restaurant - Weekly Operating Hours,\"Restaurant - Worker Density (Number per 1,000 sq ft)\",Retail Store - Gross Floor Area (ft²),Retail Store - Number of Walk-in Refrigeration/Freezer Units,Retail Store - Number of Open or Closed Refrigeration/Freezer Units,Self-Storage Facility - Gross Floor Area (ft²),Senior Living Community - Gross Floor Area (ft²),\"Senior Living Community - Living Unit Density (Number per 1,000 sq ft)\",Social/Meeting Hall - Gross Floor Area (ft²),Supermarket/Grocery - Gross Floor Area (ft²),Supermarket/Grocery - Number of Open or Closed Refrigeration/Freezer Units,Supermarket/Grocery - Number of Walk-in Refrigeration/Freezer Units,Wholesale Club/Supercenter- Gross Floor Area (ft²),Wholesale Club/Supercenter- Exterior Entrance to the Public,Wastewater Treatment Plant - Gross Floor Area (ft²),Worship Facility - Gross Floor Area (ft²),Estimated Data Flag - Electricity (Grid Purchase),Estimated Data Flag - Natural Gas,Estimated Data Flag - Fuel Oil (No. 1),Estimated Data Flag - Fuel Oil (No. 2),Estimated Data Flag - Fuel Oil (No. 4),Estimated Data Flag - Fuel Oil (No. 5 and No. 6),Estimated Data Flag - District Steam,Estimated Data Flag - Municipally Supplied Potable Water: Mixed Indoor/Outdoor Use,Estimated Values - Energy,Estimated Values - Water,\"Alert - Data Center Issue (with Estimates, IT Configuration, or IT Meter)\",Alert - Energy Meter has less than 12 full calendar months of data,Alert - Energy Meter has gaps,Alert - Energy Meter has overlaps,Alert - Energy - No meters selected for metrics,Alert - Energy Meter has single entry more than 65 days,Alert - Water Meter has less than 12 full calendar months of data,Alert - Property has no uses,Default Values,Temporary Values,Property GFA - Self-Reported (ft²),Property GFA - Calculated (Buildings and Parking) (ft²),Property GFA - Calculated (Buildings) (ft²),Property GFA - Calculated (Parking) (ft²),Water Use (All Water Sources) (kgal),Indoor Water Use (All Water Sources) (kgal),Outdoor Water Use (All Water Sources) (kgal),Municipally Supplied Potable Water - Mixed Indoor/Outdoor Use (kgal),Municipally Supplied Potable Water - Total Use (All Meter Types) (kgal),Municipally Supplied Potable Water - Indoor Use (kgal),Municipally Supplied Potable Water - Outdoor Use (kgal),Third Party Certification,Third Party Certification Date Anticipated,Third Party Certification Date Achieved,Last Modified Date - Property,Last Modified Date - Electric Meters,Last Modified Date - Gas Meters,Last Modified Date - Non-Electric Non-Gas Energy Meters,Last Modified Date - Water Meters,Last Modified Date - Property Use,Number of Active Energy Meters - Total,Number of Active Energy Meters - Used to Compute Metrics,Number of Active Energy Meters - Not Used to Compute Metrics,Number of Active IT Meters,Generation Date,Release Date,Borough,Community Board,Council District,Census Tract,NTA,Longitude,Latitude\r\n",
      "7365,1155,Not Applicable: Standalone Property,Not Applicable: Standalone Property,12/31/2020,1009970029,1022631,1155  Avenue  of  the  Americas,Manhattan,10036,Office,Office,CBECS - Office & Bank/Financial,\"Bank Branch, Office\",Office,681611,Bank Branch,5227,Not Available,Not Available,1982,Existing,1,55,Whole Property,Not Available,83,50,75,Not Available,\"2001 (78), 2002 (83), 2003 (88), 2005 (91), 2006 (81), 2008 (75), 2010 (82), 2015 (84), 2017 (79), 2020 (80)\",Yes,09/09/2020,41.7,44,71.4,28621509.3,30188450.1,9.5,Not Available,101.8,104.5,174.4,69897277.2,71782371.4,Not Available,Not Available,Not Available,Not Available,Not Available,Not Available,6414034.1,Not Available,Not Available,Not Available,Not Available,Not Available,22207475.2,6508637.9,6508637.9,6508639,22207476.3,Not Available,Not Available,Not Available,Not Available,Not Available,Not Available,Not Available,Not Available,0,0,2190.6,0,3.2,0,2190.6,2190.6,3.2,3754.9,79.5,Not Available,0,0,0,Not Available,Not Available,Not Available,Not Available,Not Available,Not Available,5227,Not Available,Not Available,Not Available,Not Available,Not Available,Not Available,Not Available,Not Available,Not Available,Not Available,Not Available,Not Available,Not Available,Not Available,Not Available,Not Available,Not Available,Not Available,Not Available,Not Available,Not Available,Not Available,Not Available,Not Available,Not Available,Not Available,Not Available,Not Available,Not Available,Not Available,Not Available,Not Available,Not Available,Not Available,Not Available,Not Available,Not Available,Not Available,Not Available,Not Available,Not Available,Not Available,Not Available,Not Available,Not Available,Not Available,Not Available,Not Available,Not Available,Not Available,Not Available,Not Available,Not Available,Not Available,Not Available,Not Available,Not Available,Not Available,Not Available,Not Available,Not Available,Not Available,Not Available,Not Available,Not Available,Not Available,Not Available,Not Available,Not Available,Not Available,Not Available,Not Available,Not Available,681611,2546,176.83,100,100,54.82,0.25943,Not Available,Not Available,Not Available,Not Available,Not Available,Not Available,Not Available,Not Available,Not Available,Not Available,Not Available,Not Available,Not Available,Not Available,Not Available,Not Available,Not Available,Not Available,Not Available,Not Available,Not Available,Not Available,Not Available,Not Available,Not Available,No,Not Available,Not Available,Not Available,Not Available,Not Available,No,Not Available,No,Unable to Check (not enough data),Ok,Ok,Ok,Ok,Ok,Ok,Unable to Check (not enough data),Ok,No,No,686838,686838,686838,Not Available,Not Available,Not Available,Not Available,Not Available,Not Available,Not Available,Not Available,Not Available,Not Available,Not Available,05/20/2021 10:02 AM EDT,05/20/2021 10:01 AM EDT,Not Available,05/20/2021 10:02 AM EDT,Not Available,05/04/2021 06:16 PM EDT,4,4,0,0,05/20/2021 02:43:12 PM,05/20/2021 02:44:16 PM,MANHATTAN,105,4,119,Midtown-Midtown South,-73.982826,40.756631\r\n",
      "8139,200,Not Applicable: Standalone Property,Not Applicable: Standalone Property,12/31/2020,1013150001,1037545,200  East  42nd  St.,Manhattan,10017,Office,Office,CBECS - Office & Bank/Financial,\"Bank Branch, Office, Retail Store\",Office,366528,Retail Store,15789,Bank Branch,2115,1956,Existing,1,100,Whole Property,Whole Property,11,50,75,Not Available,\"2001 (83), 2008 (77), 2010 (82), 2015 (83), 2017 (78), 2018 (80)\",No,07/02/2018,234.9,234.9,133.7,90318696,90318696,10.9,Not Available,342.2,342.2,194.8,131535719.8,131535719.8,Not Available,Not Available,Not Available,Not Available,Not Available,Not Available,75992330.6,Not Available,Not Available,Not Available,Not Available,Not Available,14326365.4,4198817,4198817,4198818,14326367,Not Available,Not Available,Not Available,Not Available,Not Available,Not Available,Not Available,Not Available,0,0,6184.2,0,16.1,0,6184.2,6184.2,16.1,3520.1,79.5,Not Available,0,0,0,Not Available,Not Available,Not Available,Not Available,Not Available,Not Available,2115,Not Available,Not Available,Not Available,Not Available,Not Available,Not Available,Not Available,Not Available,Not Available,Not Available,Not Available,Not Available,Not Available,Not Available,Not Available,Not Available,Not Available,Not Available,Not Available,Not Available,Not Available,Not Available,Not Available,Not Available,Not Available,Not Available,Not Available,Not Available,Not Available,Not Available,Not Available,Not Available,Not Available,Not Available,Not Available,Not Available,Not Available,Not Available,Not Available,Not Available,Not Available,Not Available,Not Available,Not Available,Not Available,Not Available,Not Available,Not Available,Not Available,Not Available,Not Available,Not Available,Not Available,Not Available,Not Available,Not Available,Not Available,Not Available,Not Available,Not Available,Not Available,Not Available,Not Available,Not Available,Not Available,Not Available,Not Available,Not Available,Not Available,Not Available,Not Available,Not Available,Not Available,366528,1670,257.43,100,100,65,0.70235,Not Available,Not Available,Not Available,Not Available,Not Available,Not Available,Not Available,Not Available,Not Available,Not Available,Not Available,15789,0,0,Not Available,Not Available,Not Available,Not Available,Not Available,Not Available,Not Available,Not Available,Not Available,Not Available,Not Available,No,Not Available,Not Available,Not Available,Not Available,Not Available,No,Not Available,No,No,Ok,Ok,Ok,Ok,Ok,Ok,Ok,Ok,No,No,384432,384432,384432,Not Available,5025.7,5025.7,Not Available,Not Available,5025.7,5025.7,Not Available,Not Available,Not Available,Not Available,05/20/2021 10:04 AM EDT,05/20/2021 10:04 AM EDT,Not Available,05/20/2021 10:03 AM EDT,02/26/2021 01:23 AM EST,05/04/2021 06:23 PM EDT,5,5,0,0,05/20/2021 02:43:12 PM,05/20/2021 02:44:16 PM,MANHATTAN,106,4,88,Turtle Bay-East Midtown,-73.974306,40.750698\r\n",
      "8604,114,Not Applicable: Standalone Property,Not Applicable: Standalone Property,12/31/2020,1009990019,1022667,114  West  47th  st,Manhattan,10036,Financial Office,Financial Office,CBECS - Office & Bank/Financial,Financial Office,Financial Office,577534,Not Available,Not Available,Not Available,Not Available,1989,Existing,1,95,Whole Property,Not Available,74,50,75,Not Available,\"2001 (75), 2002 (76), 2003 (75), 2005 (77), 2006 (85), 2008 (86), 2010 (83), 2015 (86), 2016 (91), 2018 (87)\",No,05/02/2018,56,58.8,80,32329714.8,33950130.3,10.6,0,124.8,128.2,178.3,72093196.1,74042622.4,Not Available,Not Available,Not Available,Not Available,Not Available,Not Available,10562069.7,Not Available,Not Available,893036.7,8930.366754,8930.4,20874608.4,6117997,6117997,6117998,20874609.2,Not Available,Not Available,Not Available,Not Available,Not Available,Not Available,Not Available,Not Available,0,0,2407.5,47.4,4.2,0.1,2360.1,2407.5,4.1,3439.3,79.5,Not Available,0,0,0,Not Available,Not Available,1000074571,Not Available,Not Available,Not Available,Not Available,Not Available,Not Available,Not Available,Not Available,Not Available,Not Available,Not Available,Not Available,Not Available,Not Available,Not Available,Not Available,Not Available,Not Available,Not Available,Not Available,Not Available,Not Available,Not Available,Not Available,577534,1280,90,95.96,Not Available,Not Available,Not Available,Not Available,Not Available,Not Available,Not Available,Not Available,Not Available,Not Available,Not Available,Not Available,Not Available,Not Available,Not Available,Not Available,Not Available,Not Available,Not Available,Not Available,Not Available,Not Available,Not Available,Not Available,Not Available,Not Available,Not Available,Not Available,Not Available,Not Available,Not Available,Not Available,Not Available,Not Available,Not Available,Not Available,Not Available,Not Available,Not Available,Not Available,Not Available,Not Available,Not Available,Not Available,Not Available,Not Available,Not Available,Not Available,Not Available,Not Available,Not Available,Not Available,Not Available,Not Available,Not Available,Not Available,Not Available,Not Available,Not Available,Not Available,Not Available,Not Available,Not Available,Not Available,Not Available,Not Available,Not Available,Not Available,Not Available,Not Available,Not Available,Not Available,Not Available,Not Available,Not Available,Not Available,Not Available,Not Available,Not Available,Not Available,Not Available,No,No,Not Available,Not Available,Not Available,Not Available,No,Not Available,No,Unable to Check (not enough data),Ok,Ok,Ok,Ok,Ok,Ok,Unable to Check (not enough data),Ok,No,No,577534,577534,577534,Not Available,Not Available,Not Available,Not Available,Not Available,Not Available,Not Available,Not Available,Not Available,Not Available,Not Available,05/21/2021 11:55 AM EDT,05/21/2021 11:54 AM EDT,04/19/2021 01:03 PM EDT,05/20/2021 09:56 AM EDT,Not Available,05/04/2021 05:31 PM EDT,7,7,0,0,05/21/2021 04:10:56 PM,05/21/2021 04:13:00 PM,MANHATTAN,105,4,125,Midtown-Midtown South,-73.982504,40.75831\r\n",
      "8841,733,Not Applicable: Standalone Property,Not Applicable: Standalone Property,12/31/2020,1013190047,1037596,733  Third  Avenue,Manhattan,10017,Office,Office,CBECS - Office & Bank/Financial,Office,Office,390878,Not Available,Not Available,Not Available,Not Available,1961,Existing,1,100,Whole Property,Not Available,73,50,Not Available,Not Available,\"2001 (76), 2003 (78), 2005 (85), 2006 (78), 2008 (91), 2010 (75), 2015 (76), 2017 (79), 2018 (83)\",No,05/02/2018,70.4,72.3,98.1,27516842.6,28246291,10.8,0,143,145.3,199.4,55904892.8,56782449.1,Not Available,Not Available,Not Available,Not Available,Not Available,Not Available,12357732.6,Not Available,Not Available,804271.7,8042.71694,8042.7,14354838.4,4207162,4207162,4207162,14354836.7,Not Available,Not Available,Not Available,Not Available,Not Available,Not Available,Not Available,Not Available,0,0,2003.9,42.7,5.1,0.1,1961.2,2003.9,5,2793.7,79.5,Not Available,0,0,0,Not Available,Not Available,Not Available,Not Available,Not Available,Not Available,Not Available,Not Available,Not Available,Not Available,Not Available,Not Available,Not Available,Not Available,Not Available,Not Available,Not Available,Not Available,Not Available,Not Available,Not Available,Not Available,Not Available,Not Available,Not Available,Not Available,Not Available,Not Available,Not Available,Not Available,Not Available,Not Available,Not Available,Not Available,Not Available,Not Available,Not Available,Not Available,Not Available,Not Available,Not Available,Not Available,Not Available,Not Available,Not Available,Not Available,Not Available,Not Available,Not Available,Not Available,Not Available,Not Available,Not Available,Not Available,Not Available,Not Available,Not Available,Not Available,Not Available,Not Available,Not Available,Not Available,Not Available,Not Available,Not Available,Not Available,Not Available,Not Available,Not Available,Not Available,Not Available,Not Available,Not Available,Not Available,Not Available,Not Available,Not Available,Not Available,Not Available,Not Available,390878,1810,262.43,100,100,76.5,0.67138,Not Available,Not Available,Not Available,Not Available,Not Available,Not Available,Not Available,Not Available,Not Available,Not Available,Not Available,Not Available,Not Available,Not Available,Not Available,Not Available,Not Available,Not Available,Not Available,Not Available,Not Available,Not Available,Not Available,Not Available,Not Available,No,No,Not Available,Not Available,Not Available,Not Available,No,Not Available,No,Unable to Check (not enough data),Ok,Ok,Ok,Ok,Ok,Ok,Unable to Check (not enough data),Ok,No,No,390878,390878,390878,Not Available,Not Available,Not Available,Not Available,Not Available,Not Available,Not Available,Not Available,Not Available,Not Available,Not Available,05/20/2021 10:00 AM EDT,05/20/2021 09:59 AM EDT,05/20/2021 10:00 AM EDT,05/20/2021 09:59 AM EDT,Not Available,05/04/2021 06:30 PM EDT,5,5,0,0,05/20/2021 02:43:13 PM,05/20/2021 02:44:16 PM,MANHATTAN,106,4,90,Turtle Bay-East Midtown,-73.972753,40.753074\r\n",
      "11809,Conde Nast Building,Not Applicable: Standalone Property,Not Applicable: Standalone Property,12/31/2020,1009950005,1085682,4 Times Square,Manhattan,10036,Office,Office,CBECS - Office & Bank/Financial,\"Office, Retail Store\",Office,1539113,Retail Store,62864,Not Available,Not Available,1999,Existing,1,100,Whole Property,Not Available,53,50,75,Not Available,\"2001 (75), 2002 (76), 2003 (76), 2005 (78), 2006 (78), 2008 (83), 2010 (75)\",No,03/22/2011,78.7,81.6,82.3,126054250.5,130721778.4,14.8,0.2,172.2,175.4,180.2,275896965.8,280907505,Not Available,Not Available,Not Available,Not Available,Not Available,Not Available,10949895.3,Not Available,Not Available,34039087.3,340390.8727,379902.4,81065267.9,23758868.1,23758868.1,23758870,81065264.4,Not Available,Not Available,Not Available,Not Available,Not Available,Not Available,Not Available,Not Available,0,0,8976.8,1808,5.6,1.1,7168.8,8976.8,4.5,9392.1,79.5,Not Available,0,0,0,Not Available,Not Available,1000098026,Not Available,Not Available,Not Available,Not Available,Not Available,Not Available,Not Available,Not Available,Not Available,Not Available,Not Available,Not Available,Not Available,Not Available,Not Available,Not Available,Not Available,Not Available,Not Available,Not Available,Not Available,Not Available,Not Available,Not Available,Not Available,Not Available,Not Available,Not Available,Not Available,Not Available,Not Available,Not Available,Not Available,Not Available,Not Available,Not Available,Not Available,Not Available,Not Available,Not Available,Not Available,Not Available,Not Available,Not Available,Not Available,Not Available,Not Available,Not Available,Not Available,Not Available,Not Available,Not Available,Not Available,Not Available,Not Available,Not Available,Not Available,Not Available,Not Available,Not Available,Not Available,Not Available,Not Available,Not Available,Not Available,Not Available,Not Available,Not Available,Not Available,Not Available,Not Available,Not Available,Not Available,Not Available,Not Available,Not Available,Not Available,1539113,4008,515.67,100,100,78.4,0.33504,Not Available,Not Available,Not Available,Not Available,Not Available,Not Available,Not Available,Not Available,Not Available,Not Available,Not Available,62864,2,5,Not Available,Not Available,Not Available,Not Available,Not Available,Not Available,Not Available,Not Available,Not Available,Not Available,Not Available,No,No,Not Available,Not Available,Not Available,Not Available,No,Not Available,No,Unable to Check (not enough data),Ok,Ok,Ok,Ok,Ok,Ok,Unable to Check (not enough data),Ok,No,No,1601977,1601977,1601977,Not Available,Not Available,Not Available,Not Available,Not Available,Not Available,Not Available,Not Available,Not Available,Not Available,Not Available,05/04/2021 07:35 PM EDT,05/04/2021 07:28 PM EDT,04/19/2021 01:02 PM EDT,05/04/2021 07:17 PM EDT,Not Available,05/04/2021 07:35 PM EDT,6,5,1,0,05/10/2021 06:30:37 PM,05/10/2021 06:34:54 PM,MANHATTAN,105,4,119,Midtown-Midtown South,-73.986244,40.756181\r\n",
      "28400,NYP Columbia (West Campus),28400,NYP Columbia (West Campus),12/31/2020,1-02138-0040; 1-02138-0030; 1-02139-0001; 1-02139-0085; 1-02136-0245,1084198; 1084387;1084385; 1084386; 1084388; 1084389; 1807867; 1809824; 1063380; 1087281; 1076746; 1813204; 1063403; 1063347,622 168th Street,New York,10032,Hospital (General Medical & Surgical),Hospital (General Medical & Surgical),ASHE Survey,\"Hospital (General Medical & Surgical), Parking\",Hospital (General Medical & Surgical),3813938,Parking,211980,Not Available,Not Available,1969,Existing,5,100,Whole Property,Whole Property,77,50,100,Not Available,Not Available,No,Not Available,245.8,245.8,288.5,937339558.4,937339558.4,24.2,2.7,386.3,386.3,453.4,1473378634,1473378634,Not Available,9063740.4,Not Available,Not Available,Not Available,Not Available,-403979953.1,Not Available,Not Available,1017192810,10171928.1,10171928.1,315062961.2,92339660.9,92339660.9,92339670,315062954,Not Available,Not Available,Not Available,Not Available,Not Available,Not Available,Not Available,Not Available,0,0,52912.9,54700.6,13.9,14.3,-1787.7,52912.9,-0.5,62105.5,79.5,Not Available,0,0,0,Not Available,Not Available,Not Available,Not Available,Not Available,Not Available,Not Available,Not Available,Not Available,Not Available,Not Available,Not Available,Not Available,Not Available,Not Available,Not Available,Not Available,Not Available,Not Available,Not Available,Not Available,Not Available,Not Available,Not Available,Not Available,Not Available,Not Available,Not Available,Not Available,Not Available,Not Available,Not Available,Not Available,Not Available,12687,3813938,100% Yes,3868.12,12,0.00315,1786,0.46828,7399.87,1.94022,100,100,Not Available,Not Available,Not Available,Not Available,Not Available,Not Available,Not Available,Not Available,Not Available,Not Available,Not Available,Not Available,Not Available,Not Available,Not Available,Not Available,Not Available,Not Available,Not Available,Not Available,Not Available,Not Available,Not Available,Not Available,Not Available,Not Available,Not Available,Not Available,Not Available,Not Available,Not Available,Not Available,Not Available,Not Available,Not Available,Not Available,Not Available,Not Available,Not Available,Not Available,Not Available,Not Available,Not Available,Not Available,211980,211980,0,0,Not Available,Not Available,Not Available,Not Available,Not Available,Not Available,Not Available,Not Available,Not Available,Not Available,Not Available,Not Available,Not Available,Not Available,Not Available,Not Available,Not Available,Not Available,No,No,Not Available,No,Not Available,No,No,Not Available,No,No,Ok,Ok,Ok,Ok,Ok,Ok,Ok,Ok,Yes,Yes,3813938,4025918,3813938,211980,152.2,152.2,Not Available,Not Available,152.2,152.2,Not Available,Not Available,Not Available,Not Available,04/13/2021 04:03 PM EDT,04/13/2021 03:59 PM EDT,04/13/2021 04:02 PM EDT,04/13/2021 04:03 PM EDT,05/01/2019 12:48 PM EDT,08/23/2020 09:10 AM EDT,7,7,0,0,04/20/2021 02:47:36 PM,04/20/2021 03:06:18 PM,,,,,,,\r\n",
      "28402,NYP Cornell (East Campus),28402,NYP Cornell (East Campus),12/31/2020,1-01480-0001; 1-01482-0040,1084781; 1084780; 1081252,525 East 68th Street,New York,10021,Hospital (General Medical & Surgical),Hospital (General Medical & Surgical),ASHE Survey,\"Hospital (General Medical & Surgical), Other\",Hospital (General Medical & Surgical),2405480,Other,396315,Not Available,Not Available,1932,Existing,2,100,Whole Property,Whole Property,54,50,75,Not Available,2011 (77),No,07/19/2011,379.3,378.6,389.2,1062846483,1060656822,8.4,5.6,416.7,414.6,427.6,1167638683,1161507633,Not Available,5725869.9,Not Available,Not Available,Not Available,Not Available,-600133611.8,Not Available,Not Available,1575126215,15751262.15,15751262.2,82128009.4,24070339.8,23428587,24070340,82128000.1,Not Available,Not Available,Not Available,Not Available,Not Available,Not Available,Not Available,Not Available,0,0,50765.6,84087.4,18.1,30,-33321.8,50765.6,-11.9,52085.8,79.5,Not Available,0,0,0,Not Available,Not Available,Not Available,Not Available,Not Available,Not Available,Not Available,Not Available,Not Available,Not Available,Not Available,Not Available,Not Available,Not Available,Not Available,Not Available,Not Available,Not Available,Not Available,Not Available,Not Available,Not Available,Not Available,Not Available,Not Available,Not Available,Not Available,Not Available,Not Available,Not Available,Not Available,Not Available,Not Available,Not Available,7599.4,2405480,100% Yes,2050.6,5,0.00208,843,0.35045,3922.9,1.63082,100,100,Not Available,Not Available,Not Available,Not Available,Not Available,Not Available,Not Available,Not Available,Not Available,Not Available,Not Available,Not Available,Not Available,Not Available,Not Available,Not Available,Not Available,Not Available,Not Available,Not Available,Not Available,Not Available,Not Available,Not Available,Not Available,Not Available,Not Available,Not Available,Not Available,Not Available,Not Available,Not Available,Not Available,Not Available,Not Available,Not Available,Not Available,Not Available,Not Available,Not Available,Not Available,396315,Not Available,Not Available,Not Available,Not Available,Not Available,Not Available,Not Available,Not Available,Not Available,Not Available,Not Available,Not Available,Not Available,Not Available,Not Available,Not Available,Not Available,Not Available,Not Available,Not Available,Not Available,Not Available,Not Available,Not Available,No,No,Not Available,No,Not Available,Not Available,No,Not Available,No,No,Ok,Ok,Ok,Ok,Ok,Ok,Possible Issue,Ok,No,No,2801796,2801795,2801795,Not Available,Not Available,Not Available,Not Available,Not Available,Not Available,Not Available,Not Available,Not Available,Not Available,Not Available,04/13/2021 03:04 PM EDT,04/13/2021 02:43 PM EDT,04/13/2021 02:50 PM EDT,04/13/2021 03:04 PM EDT,Not Available,08/23/2020 09:10 AM EDT,13,13,0,0,07/27/2021 10:59:45 AM,07/27/2021 11:01:16 AM,MANHATTAN,108,5,116,Lenox Hill-Roosevelt Island,-73.955251,40.764149\r\n",
      "28404,The Allen Hospital,Not Applicable: Standalone Property,Not Applicable: Standalone Property,12/31/2020,1-02244-0100,1065045,5141 Broadway,New York,10034,Hospital (General Medical & Surgical),Hospital (General Medical & Surgical),ASHE Survey,Hospital (General Medical & Surgical),Hospital (General Medical & Surgical),308789,Not Available,Not Available,Not Available,Not Available,1991,Existing,1,100,Whole Property,Whole Property,52,50,75,Not Available,\"2005 (77), 2006 (78), 2014 (76)\",No,02/19/2014,246.9,245.6,249.8,76250656.2,75826194.1,31.9,1.3,452.4,448.5,457.6,139683084.4,138494590.5,Not Available,518090,Not Available,Not Available,Not Available,Not Available,Not Available,Not Available,Not Available,41652212.5,416522.1254,416522.1,34080353.7,9988379.1,9863976.4,9988380,34080352.6,Not Available,Not Available,Not Available,Not Available,Not Available,Not Available,Not Available,Not Available,0,0,4958.9,2250.8,16.1,7.3,2708.1,4958.9,8.8,5015.9,79.5,Not Available,0,0,0,Not Available,Not Available,Not Available,Not Available,Not Available,Not Available,Not Available,Not Available,Not Available,Not Available,Not Available,Not Available,Not Available,Not Available,Not Available,Not Available,Not Available,Not Available,Not Available,Not Available,Not Available,Not Available,Not Available,Not Available,Not Available,Not Available,Not Available,Not Available,Not Available,Not Available,Not Available,Not Available,Not Available,Not Available,800,308789,100% Yes,206.9,1,0.00324,206,0.66712,395.8,1.28178,100,100,Not Available,Not Available,Not Available,Not Available,Not Available,Not Available,Not Available,Not Available,Not Available,Not Available,Not Available,Not Available,Not Available,Not Available,Not Available,Not Available,Not Available,Not Available,Not Available,Not Available,Not Available,Not Available,Not Available,Not Available,Not Available,Not Available,Not Available,Not Available,Not Available,Not Available,Not Available,Not Available,Not Available,Not Available,Not Available,Not Available,Not Available,Not Available,Not Available,Not Available,Not Available,Not Available,Not Available,Not Available,Not Available,Not Available,Not Available,Not Available,Not Available,Not Available,Not Available,Not Available,Not Available,Not Available,Not Available,Not Available,Not Available,Not Available,Not Available,Not Available,Not Available,Not Available,Not Available,Not Available,Not Available,Not Available,No,No,Not Available,No,Not Available,Not Available,Not Available,Not Available,No,No,Ok,Ok,Ok,Ok,Ok,Ok,Ok,Ok,No,No,308789,308789,308789,Not Available,20731.5,20731.5,Not Available,Not Available,20731.5,20731.5,Not Available,Not Available,Not Available,Not Available,04/13/2021 04:20 PM EDT,04/13/2021 04:18 PM EDT,04/13/2021 04:19 PM EDT,04/13/2021 04:20 PM EDT,02/24/2021 06:27 PM EST,09/17/2020 04:34 PM EDT,3,3,0,0,04/20/2021 02:47:37 PM,04/20/2021 03:06:18 PM,MANHATTAN,112,10,297,park-cemetery-etc-Manhattan,-73.912668,40.872385\r\n",
      "1045358,320 Park Avenue,Not Applicable: Standalone Property,Not Applicable: Standalone Property,12/31/2020,1-01286-0035,1035464,320 Park Avenue,New York,10022,Financial Office,Financial Office,CBECS - Office & Bank/Financial,\"Bank Branch, Data Center, Financial Office\",Financial Office,705197,Bank Branch,10462,Data Center,6320,1994,Existing,1,100,Whole Property,Whole Property,76,50,85,Not Available,\"2003 (86), 2004 (75), 2005 (77), 2006 (82), 2007 (80), 2008 (81), 2009 (77), 2010 (77), 2011 (77), 2012 (81), 2013 (79), 2014 (78), 2015 (82), 2016 (82), 2017 (82), 2018 (78), 2019 (75), 2020 (77)\",No,08/05/2020,69.2,71.2,99.5,49996014.1,51430062.3,14.4,Not Available,161.6,164,232.2,116650600.3,118375819.2,Not Available,Not Available,Not Available,Not Available,Not Available,Not Available,14614176.4,Not Available,Not Available,Not Available,Not Available,Not Available,35381837.7,10369822.2,10369822.2,10369820,35381825.8,Not Available,Not Available,Not Available,Not Available,Not Available,Not Available,Not Available,Not Available,0,0,3781.9,0,5.2,0,3781.9,3781.9,5.2,5436.3,79.5,Not Available,0,0,0,Not Available,Not Available,Not Available,Not Available,Not Available,Not Available,10462,Not Available,Not Available,Not Available,Not Available,6320,Not Available,Not Available,UPS supports only IT Equipment (preferred) => Use UPS Output Meter,No,681871.2,0,0,0,681871.2,6514324.9,Not Available,Not Available,Not Available,Not Available,Not Available,705197,3536,92,770.39,Not Available,Not Available,Not Available,Not Available,Not Available,Not Available,Not Available,Not Available,Not Available,Not Available,Not Available,Not Available,Not Available,Not Available,Not Available,Not Available,Not Available,Not Available,Not Available,Not Available,Not Available,Not Available,Not Available,Not Available,Not Available,Not Available,Not Available,Not Available,Not Available,Not Available,Not Available,Not Available,Not Available,Not Available,Not Available,Not Available,Not Available,Not Available,Not Available,Not Available,Not Available,Not Available,Not Available,Not Available,Not Available,Not Available,Not Available,Not Available,Not Available,Not Available,Not Available,Not Available,Not Available,Not Available,Not Available,Not Available,Not Available,Not Available,Not Available,Not Available,Not Available,Not Available,Not Available,Not Available,Not Available,Not Available,Not Available,Not Available,Not Available,Not Available,Not Available,Not Available,Not Available,Not Available,Not Available,Not Available,Not Available,Not Available,Not Available,Not Available,Not Available,No,Not Available,Not Available,Not Available,Not Available,Not Available,No,No,No,No,Ok,Ok,Ok,Ok,Ok,Ok,Ok,Ok,No,No,721979,721979,721979,Not Available,13105.9,4050.4,Not Available,9055.5,9055.5,Not Available,Not Available,Not Available,Not Available,Not Available,04/15/2021 11:20 AM EDT,04/09/2021 12:09 PM EDT,Not Available,04/09/2021 12:09 PM EDT,04/09/2021 12:09 PM EDT,04/15/2021 11:20 AM EDT,3,3,0,3,04/22/2021 04:50:42 PM,04/22/2021 04:52:58 PM,MANHATTAN,105,4,102,Midtown-Midtown South,-73.973798,40.75745\r\n"
     ]
    }
   ],
   "source": [
    "!head LL84_2020.csv"
   ]
  },
  {
   "cell_type": "code",
   "execution_count": 13,
   "id": "e498b78e",
   "metadata": {},
   "outputs": [],
   "source": [
    "import pandas as pd\n",
    "import numpy as np"
   ]
  },
  {
   "cell_type": "code",
   "execution_count": 33,
   "id": "2e2f17ee",
   "metadata": {},
   "outputs": [
    {
     "name": "stderr",
     "output_type": "stream",
     "text": [
      "/Users/carolinekeough/opt/anaconda3/lib/python3.9/site-packages/IPython/core/interactiveshell.py:3444: DtypeWarning: Columns (9) have mixed types.Specify dtype option on import or set low_memory=False.\n",
      "  exec(code_obj, self.user_global_ns, self.user_ns)\n"
     ]
    }
   ],
   "source": [
    "col_of_interest = [\"Property Id\", \"Address 1\", \"Postcode\",\"Primary Property Type - Self Selected\",\\\n",
    "                   \"Year Built\", \"Site EUI (kBtu/ft²)\", \"Site Energy Use (kBtu)\",\\\n",
    "                   \"Total GHG Emissions (Metric Tons CO2e)\", \"Borough\"]\n",
    "\n",
    "data2020 = pd.read_csv('LL84_2020.csv', usecols = col_of_interest, dtype = {\"Address 1\": str})\n",
    "\n",
    "#deal with annoying column names\n",
    "#deal with annoying missing things and assign data types"
   ]
  },
  {
   "cell_type": "code",
   "execution_count": 34,
   "id": "c54cf610",
   "metadata": {},
   "outputs": [
    {
     "data": {
      "text/html": [
       "<div>\n",
       "<style scoped>\n",
       "    .dataframe tbody tr th:only-of-type {\n",
       "        vertical-align: middle;\n",
       "    }\n",
       "\n",
       "    .dataframe tbody tr th {\n",
       "        vertical-align: top;\n",
       "    }\n",
       "\n",
       "    .dataframe thead th {\n",
       "        text-align: right;\n",
       "    }\n",
       "</style>\n",
       "<table border=\"1\" class=\"dataframe\">\n",
       "  <thead>\n",
       "    <tr style=\"text-align: right;\">\n",
       "      <th></th>\n",
       "      <th>Property Id</th>\n",
       "      <th>Address 1</th>\n",
       "      <th>Postcode</th>\n",
       "      <th>Primary Property Type - Self Selected</th>\n",
       "      <th>Year Built</th>\n",
       "      <th>Site EUI (kBtu/ft²)</th>\n",
       "      <th>Site Energy Use (kBtu)</th>\n",
       "      <th>Total GHG Emissions (Metric Tons CO2e)</th>\n",
       "      <th>Borough</th>\n",
       "    </tr>\n",
       "  </thead>\n",
       "  <tbody>\n",
       "    <tr>\n",
       "      <th>0</th>\n",
       "      <td>7365</td>\n",
       "      <td>1155  Avenue  of  the  Americas</td>\n",
       "      <td>10036</td>\n",
       "      <td>Office</td>\n",
       "      <td>1982</td>\n",
       "      <td>41.7</td>\n",
       "      <td>28621509.3</td>\n",
       "      <td>2190.6</td>\n",
       "      <td>MANHATTAN</td>\n",
       "    </tr>\n",
       "    <tr>\n",
       "      <th>1</th>\n",
       "      <td>8139</td>\n",
       "      <td>200  East  42nd  St.</td>\n",
       "      <td>10017</td>\n",
       "      <td>Office</td>\n",
       "      <td>1956</td>\n",
       "      <td>234.9</td>\n",
       "      <td>90318696</td>\n",
       "      <td>6184.2</td>\n",
       "      <td>MANHATTAN</td>\n",
       "    </tr>\n",
       "    <tr>\n",
       "      <th>2</th>\n",
       "      <td>8604</td>\n",
       "      <td>114  West  47th  st</td>\n",
       "      <td>10036</td>\n",
       "      <td>Financial Office</td>\n",
       "      <td>1989</td>\n",
       "      <td>56</td>\n",
       "      <td>32329714.8</td>\n",
       "      <td>2407.5</td>\n",
       "      <td>MANHATTAN</td>\n",
       "    </tr>\n",
       "    <tr>\n",
       "      <th>3</th>\n",
       "      <td>8841</td>\n",
       "      <td>733  Third  Avenue</td>\n",
       "      <td>10017</td>\n",
       "      <td>Office</td>\n",
       "      <td>1961</td>\n",
       "      <td>70.4</td>\n",
       "      <td>27516842.6</td>\n",
       "      <td>2003.9</td>\n",
       "      <td>MANHATTAN</td>\n",
       "    </tr>\n",
       "    <tr>\n",
       "      <th>4</th>\n",
       "      <td>11809</td>\n",
       "      <td>4 Times Square</td>\n",
       "      <td>10036</td>\n",
       "      <td>Office</td>\n",
       "      <td>1999</td>\n",
       "      <td>78.7</td>\n",
       "      <td>126054250.5</td>\n",
       "      <td>8976.8</td>\n",
       "      <td>MANHATTAN</td>\n",
       "    </tr>\n",
       "  </tbody>\n",
       "</table>\n",
       "</div>"
      ],
      "text/plain": [
       "   Property Id                        Address 1 Postcode  \\\n",
       "0         7365  1155  Avenue  of  the  Americas    10036   \n",
       "1         8139             200  East  42nd  St.    10017   \n",
       "2         8604              114  West  47th  st    10036   \n",
       "3         8841               733  Third  Avenue    10017   \n",
       "4        11809                   4 Times Square    10036   \n",
       "\n",
       "  Primary Property Type - Self Selected  Year Built Site EUI (kBtu/ft²)  \\\n",
       "0                                Office        1982                41.7   \n",
       "1                                Office        1956               234.9   \n",
       "2                      Financial Office        1989                  56   \n",
       "3                                Office        1961                70.4   \n",
       "4                                Office        1999                78.7   \n",
       "\n",
       "  Site Energy Use (kBtu) Total GHG Emissions (Metric Tons CO2e)    Borough  \n",
       "0             28621509.3                                 2190.6  MANHATTAN  \n",
       "1               90318696                                 6184.2  MANHATTAN  \n",
       "2             32329714.8                                 2407.5  MANHATTAN  \n",
       "3             27516842.6                                 2003.9  MANHATTAN  \n",
       "4            126054250.5                                 8976.8  MANHATTAN  "
      ]
     },
     "execution_count": 34,
     "metadata": {},
     "output_type": "execute_result"
    }
   ],
   "source": [
    "data2020.head()"
   ]
  },
  {
   "cell_type": "code",
   "execution_count": 35,
   "id": "d8271d8d",
   "metadata": {},
   "outputs": [
    {
     "data": {
      "text/plain": [
       "str"
      ]
     },
     "execution_count": 35,
     "metadata": {},
     "output_type": "execute_result"
    }
   ],
   "source": [
    "type(data2020[\"Total GHG Emissions (Metric Tons CO2e)\"][0])"
   ]
  },
  {
   "cell_type": "code",
   "execution_count": null,
   "id": "f5044288",
   "metadata": {},
   "outputs": [],
   "source": []
  }
 ],
 "metadata": {
  "kernelspec": {
   "display_name": "Python 3 (ipykernel)",
   "language": "python",
   "name": "python3"
  },
  "language_info": {
   "codemirror_mode": {
    "name": "ipython",
    "version": 3
   },
   "file_extension": ".py",
   "mimetype": "text/x-python",
   "name": "python",
   "nbconvert_exporter": "python",
   "pygments_lexer": "ipython3",
   "version": "3.9.7"
  }
 },
 "nbformat": 4,
 "nbformat_minor": 5
}
